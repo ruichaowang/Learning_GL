{
 "cells": [
  {
   "cell_type": "code",
   "execution_count": 3,
   "metadata": {},
   "outputs": [
    {
     "name": "stdout",
     "output_type": "stream",
     "text": [
      "Saved slice 0 to slice_3x_0.csv\n",
      "Saved slice 1 to slice_3x_1.csv\n",
      "Saved slice 2 to slice_3x_2.csv\n",
      "Saved slice 3 to slice_3x_3.csv\n",
      "Saved slice 4 to slice_3x_4.csv\n",
      "Saved slice 5 to slice_3x_5.csv\n",
      "Saved slice 6 to slice_3x_6.csv\n",
      "Saved slice 7 to slice_3x_7.csv\n",
      "Saved slice 8 to slice_3x_8.csv\n",
      "Saved slice 9 to slice_3x_9.csv\n",
      "Saved slice 10 to slice_3x_10.csv\n",
      "Saved slice 11 to slice_3x_11.csv\n",
      "Saved slice 12 to slice_3x_12.csv\n",
      "Saved slice 13 to slice_3x_13.csv\n",
      "Saved slice 14 to slice_3x_14.csv\n",
      "Saved slice 15 to slice_3x_15.csv\n",
      "Saved slice 16 to slice_3x_16.csv\n",
      "Saved slice 17 to slice_3x_17.csv\n",
      "Saved slice 18 to slice_3x_18.csv\n",
      "Saved slice 19 to slice_3x_19.csv\n",
      "Saved slice 20 to slice_3x_20.csv\n",
      "Saved slice 21 to slice_3x_21.csv\n",
      "Saved slice 22 to slice_3x_22.csv\n",
      "Saved slice 23 to slice_3x_23.csv\n"
     ]
    }
   ],
   "source": [
    "import numpy as np\n",
    "predict_vox = np.load(\"./predict_vox_300.npy\")\n",
    "for idx in range(predict_vox.shape[2]):\n",
    "    # 提取当前索引对应的2维数组\n",
    "    # arr[:,:,idx] 表示获取所有第一维和第二维的数据，在第三维上索引idx\n",
    "    slice_2d = predict_vox[:, :, idx]\n",
    "    \n",
    "    # 生成CSV文件名. 例如 \"slice_0.csv\", \"slice_1.csv\", ...\n",
    "    filename = f\"slice_3x_{idx}.csv\"\n",
    "    \n",
    "    # 将2维数组保存到CSV文件中\n",
    "    np.savetxt(filename, slice_2d, delimiter=\",\", fmt='%d')\n",
    "    \n",
    "    print(f\"Saved slice {idx} to {filename}\")"
   ]
  },
  {
   "cell_type": "code",
   "execution_count": 38,
   "metadata": {},
   "outputs": [
    {
     "name": "stdout",
     "output_type": "stream",
     "text": [
      "Saved slice 0 to slice_0.csv\n",
      "Saved slice 1 to slice_1.csv\n",
      "Saved slice 2 to slice_2.csv\n",
      "Saved slice 3 to slice_3.csv\n",
      "Saved slice 4 to slice_4.csv\n",
      "Saved slice 5 to slice_5.csv\n",
      "Saved slice 6 to slice_6.csv\n",
      "Saved slice 7 to slice_7.csv\n"
     ]
    }
   ],
   "source": []
  }
 ],
 "metadata": {
  "kernelspec": {
   "display_name": "Python 3",
   "language": "python",
   "name": "python3"
  },
  "language_info": {
   "codemirror_mode": {
    "name": "ipython",
    "version": 3
   },
   "file_extension": ".py",
   "mimetype": "text/x-python",
   "name": "python",
   "nbconvert_exporter": "python",
   "pygments_lexer": "ipython3",
   "version": "3.8.18"
  }
 },
 "nbformat": 4,
 "nbformat_minor": 2
}
